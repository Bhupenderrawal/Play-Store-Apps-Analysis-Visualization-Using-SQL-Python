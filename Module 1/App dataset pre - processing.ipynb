{
 "cells": [
  {
   "cell_type": "markdown",
   "id": "10fc152a",
   "metadata": {},
   "source": [
    "#### Subtask 1: Removing duplicate rows:"
   ]
  },
  {
   "cell_type": "code",
   "execution_count": 43,
   "id": "ea70fb99",
   "metadata": {},
   "outputs": [
    {
     "data": {
      "text/html": [
       "<div>\n",
       "<style scoped>\n",
       "    .dataframe tbody tr th:only-of-type {\n",
       "        vertical-align: middle;\n",
       "    }\n",
       "\n",
       "    .dataframe tbody tr th {\n",
       "        vertical-align: top;\n",
       "    }\n",
       "\n",
       "    .dataframe thead th {\n",
       "        text-align: right;\n",
       "    }\n",
       "</style>\n",
       "<table border=\"1\" class=\"dataframe\">\n",
       "  <thead>\n",
       "    <tr style=\"text-align: right;\">\n",
       "      <th></th>\n",
       "      <th>Category</th>\n",
       "      <th>Rating</th>\n",
       "      <th>Reviews</th>\n",
       "      <th>Size</th>\n",
       "      <th>Installs</th>\n",
       "      <th>Type</th>\n",
       "      <th>Price</th>\n",
       "      <th>Content Rating</th>\n",
       "      <th>Genres</th>\n",
       "      <th>Last Updated</th>\n",
       "      <th>Current Ver</th>\n",
       "      <th>Android Ver</th>\n",
       "    </tr>\n",
       "    <tr>\n",
       "      <th>App</th>\n",
       "      <th></th>\n",
       "      <th></th>\n",
       "      <th></th>\n",
       "      <th></th>\n",
       "      <th></th>\n",
       "      <th></th>\n",
       "      <th></th>\n",
       "      <th></th>\n",
       "      <th></th>\n",
       "      <th></th>\n",
       "      <th></th>\n",
       "      <th></th>\n",
       "    </tr>\n",
       "  </thead>\n",
       "  <tbody>\n",
       "    <tr>\n",
       "      <th>Photo Editor &amp; Candy Camera &amp; Grid &amp; ScrapBook</th>\n",
       "      <td>ART_AND_DESIGN</td>\n",
       "      <td>4.1</td>\n",
       "      <td>159.0</td>\n",
       "      <td>19M</td>\n",
       "      <td>10000.0</td>\n",
       "      <td>Free</td>\n",
       "      <td>0.0</td>\n",
       "      <td>Everyone</td>\n",
       "      <td>Art &amp; Design</td>\n",
       "      <td>07-01-2018</td>\n",
       "      <td>1.0.0</td>\n",
       "      <td>4.0.3 and up</td>\n",
       "    </tr>\n",
       "    <tr>\n",
       "      <th>Coloring book moana</th>\n",
       "      <td>ART_AND_DESIGN</td>\n",
       "      <td>3.9</td>\n",
       "      <td>967.0</td>\n",
       "      <td>14M</td>\n",
       "      <td>500000.0</td>\n",
       "      <td>Free</td>\n",
       "      <td>0.0</td>\n",
       "      <td>Everyone</td>\n",
       "      <td>Art &amp; Design;Pretend Play</td>\n",
       "      <td>15-01-2018</td>\n",
       "      <td>2.0.0</td>\n",
       "      <td>4.0.3 and up</td>\n",
       "    </tr>\n",
       "    <tr>\n",
       "      <th>U Launcher Lite – FREE Live Cool Themes, Hide Apps</th>\n",
       "      <td>ART_AND_DESIGN</td>\n",
       "      <td>4.7</td>\n",
       "      <td>87510.0</td>\n",
       "      <td>8.7M</td>\n",
       "      <td>5000000.0</td>\n",
       "      <td>Free</td>\n",
       "      <td>0.0</td>\n",
       "      <td>Everyone</td>\n",
       "      <td>Art &amp; Design</td>\n",
       "      <td>01-08-2018</td>\n",
       "      <td>1.2.4</td>\n",
       "      <td>4.0.3 and up</td>\n",
       "    </tr>\n",
       "    <tr>\n",
       "      <th>Sketch - Draw &amp; Paint</th>\n",
       "      <td>ART_AND_DESIGN</td>\n",
       "      <td>4.5</td>\n",
       "      <td>215644.0</td>\n",
       "      <td>25M</td>\n",
       "      <td>50000000.0</td>\n",
       "      <td>Free</td>\n",
       "      <td>0.0</td>\n",
       "      <td>Teen</td>\n",
       "      <td>Art &amp; Design</td>\n",
       "      <td>08-06-2018</td>\n",
       "      <td>Varies with device</td>\n",
       "      <td>4.2 and up</td>\n",
       "    </tr>\n",
       "    <tr>\n",
       "      <th>Pixel Draw - Number Art Coloring Book</th>\n",
       "      <td>ART_AND_DESIGN</td>\n",
       "      <td>4.3</td>\n",
       "      <td>967.0</td>\n",
       "      <td>2.8M</td>\n",
       "      <td>100000.0</td>\n",
       "      <td>Free</td>\n",
       "      <td>0.0</td>\n",
       "      <td>Everyone</td>\n",
       "      <td>Art &amp; Design;Creativity</td>\n",
       "      <td>20-06-2018</td>\n",
       "      <td>1.1</td>\n",
       "      <td>4.4 and up</td>\n",
       "    </tr>\n",
       "    <tr>\n",
       "      <th>...</th>\n",
       "      <td>...</td>\n",
       "      <td>...</td>\n",
       "      <td>...</td>\n",
       "      <td>...</td>\n",
       "      <td>...</td>\n",
       "      <td>...</td>\n",
       "      <td>...</td>\n",
       "      <td>...</td>\n",
       "      <td>...</td>\n",
       "      <td>...</td>\n",
       "      <td>...</td>\n",
       "      <td>...</td>\n",
       "    </tr>\n",
       "    <tr>\n",
       "      <th>Sya9a Maroc - FR</th>\n",
       "      <td>FAMILY</td>\n",
       "      <td>4.5</td>\n",
       "      <td>38.0</td>\n",
       "      <td>53M</td>\n",
       "      <td>5000.0</td>\n",
       "      <td>Free</td>\n",
       "      <td>0.0</td>\n",
       "      <td>Everyone</td>\n",
       "      <td>Education</td>\n",
       "      <td>25-07-2017</td>\n",
       "      <td>1.48</td>\n",
       "      <td>4.1 and up</td>\n",
       "    </tr>\n",
       "    <tr>\n",
       "      <th>Fr. Mike Schmitz Audio Teachings</th>\n",
       "      <td>FAMILY</td>\n",
       "      <td>5.0</td>\n",
       "      <td>4.0</td>\n",
       "      <td>3.6M</td>\n",
       "      <td>100.0</td>\n",
       "      <td>Free</td>\n",
       "      <td>0.0</td>\n",
       "      <td>Everyone</td>\n",
       "      <td>Education</td>\n",
       "      <td>06-07-2018</td>\n",
       "      <td>1</td>\n",
       "      <td>4.1 and up</td>\n",
       "    </tr>\n",
       "    <tr>\n",
       "      <th>Parkinson Exercices FR</th>\n",
       "      <td>MEDICAL</td>\n",
       "      <td>NaN</td>\n",
       "      <td>3.0</td>\n",
       "      <td>9.5M</td>\n",
       "      <td>1000.0</td>\n",
       "      <td>Free</td>\n",
       "      <td>0.0</td>\n",
       "      <td>Everyone</td>\n",
       "      <td>Medical</td>\n",
       "      <td>20-01-2017</td>\n",
       "      <td>1</td>\n",
       "      <td>2.2 and up</td>\n",
       "    </tr>\n",
       "    <tr>\n",
       "      <th>The SCP Foundation DB fr nn5n</th>\n",
       "      <td>BOOKS_AND_REFERENCE</td>\n",
       "      <td>4.5</td>\n",
       "      <td>114.0</td>\n",
       "      <td>Varies with device</td>\n",
       "      <td>1000.0</td>\n",
       "      <td>Free</td>\n",
       "      <td>0.0</td>\n",
       "      <td>Mature 17+</td>\n",
       "      <td>Books &amp; Reference</td>\n",
       "      <td>19-01-2015</td>\n",
       "      <td>Varies with device</td>\n",
       "      <td>Varies with device</td>\n",
       "    </tr>\n",
       "    <tr>\n",
       "      <th>iHoroscope - 2018 Daily Horoscope &amp; Astrology</th>\n",
       "      <td>LIFESTYLE</td>\n",
       "      <td>4.5</td>\n",
       "      <td>398307.0</td>\n",
       "      <td>19M</td>\n",
       "      <td>10000000.0</td>\n",
       "      <td>Free</td>\n",
       "      <td>0.0</td>\n",
       "      <td>Everyone</td>\n",
       "      <td>Lifestyle</td>\n",
       "      <td>25-07-2018</td>\n",
       "      <td>Varies with device</td>\n",
       "      <td>Varies with device</td>\n",
       "    </tr>\n",
       "  </tbody>\n",
       "</table>\n",
       "<p>10841 rows × 12 columns</p>\n",
       "</div>"
      ],
      "text/plain": [
       "                                                               Category  \\\n",
       "App                                                                       \n",
       "Photo Editor & Candy Camera & Grid & ScrapBook           ART_AND_DESIGN   \n",
       "Coloring book moana                                      ART_AND_DESIGN   \n",
       "U Launcher Lite – FREE Live Cool Themes, Hide Apps       ART_AND_DESIGN   \n",
       "Sketch - Draw & Paint                                    ART_AND_DESIGN   \n",
       "Pixel Draw - Number Art Coloring Book                    ART_AND_DESIGN   \n",
       "...                                                                 ...   \n",
       "Sya9a Maroc - FR                                                 FAMILY   \n",
       "Fr. Mike Schmitz Audio Teachings                                 FAMILY   \n",
       "Parkinson Exercices FR                                          MEDICAL   \n",
       "The SCP Foundation DB fr nn5n                       BOOKS_AND_REFERENCE   \n",
       "iHoroscope - 2018 Daily Horoscope & Astrology                 LIFESTYLE   \n",
       "\n",
       "                                                    Rating   Reviews  \\\n",
       "App                                                                    \n",
       "Photo Editor & Candy Camera & Grid & ScrapBook         4.1     159.0   \n",
       "Coloring book moana                                    3.9     967.0   \n",
       "U Launcher Lite – FREE Live Cool Themes, Hide Apps     4.7   87510.0   \n",
       "Sketch - Draw & Paint                                  4.5  215644.0   \n",
       "Pixel Draw - Number Art Coloring Book                  4.3     967.0   \n",
       "...                                                    ...       ...   \n",
       "Sya9a Maroc - FR                                       4.5      38.0   \n",
       "Fr. Mike Schmitz Audio Teachings                       5.0       4.0   \n",
       "Parkinson Exercices FR                                 NaN       3.0   \n",
       "The SCP Foundation DB fr nn5n                          4.5     114.0   \n",
       "iHoroscope - 2018 Daily Horoscope & Astrology          4.5  398307.0   \n",
       "\n",
       "                                                                  Size  \\\n",
       "App                                                                      \n",
       "Photo Editor & Candy Camera & Grid & ScrapBook                     19M   \n",
       "Coloring book moana                                                14M   \n",
       "U Launcher Lite – FREE Live Cool Themes, Hide Apps                8.7M   \n",
       "Sketch - Draw & Paint                                              25M   \n",
       "Pixel Draw - Number Art Coloring Book                             2.8M   \n",
       "...                                                                ...   \n",
       "Sya9a Maroc - FR                                                   53M   \n",
       "Fr. Mike Schmitz Audio Teachings                                  3.6M   \n",
       "Parkinson Exercices FR                                            9.5M   \n",
       "The SCP Foundation DB fr nn5n                       Varies with device   \n",
       "iHoroscope - 2018 Daily Horoscope & Astrology                      19M   \n",
       "\n",
       "                                                      Installs  Type  Price  \\\n",
       "App                                                                           \n",
       "Photo Editor & Candy Camera & Grid & ScrapBook         10000.0  Free    0.0   \n",
       "Coloring book moana                                   500000.0  Free    0.0   \n",
       "U Launcher Lite – FREE Live Cool Themes, Hide Apps   5000000.0  Free    0.0   \n",
       "Sketch - Draw & Paint                               50000000.0  Free    0.0   \n",
       "Pixel Draw - Number Art Coloring Book                 100000.0  Free    0.0   \n",
       "...                                                        ...   ...    ...   \n",
       "Sya9a Maroc - FR                                        5000.0  Free    0.0   \n",
       "Fr. Mike Schmitz Audio Teachings                         100.0  Free    0.0   \n",
       "Parkinson Exercices FR                                  1000.0  Free    0.0   \n",
       "The SCP Foundation DB fr nn5n                           1000.0  Free    0.0   \n",
       "iHoroscope - 2018 Daily Horoscope & Astrology       10000000.0  Free    0.0   \n",
       "\n",
       "                                                   Content Rating  \\\n",
       "App                                                                 \n",
       "Photo Editor & Candy Camera & Grid & ScrapBook           Everyone   \n",
       "Coloring book moana                                      Everyone   \n",
       "U Launcher Lite – FREE Live Cool Themes, Hide Apps       Everyone   \n",
       "Sketch - Draw & Paint                                        Teen   \n",
       "Pixel Draw - Number Art Coloring Book                    Everyone   \n",
       "...                                                           ...   \n",
       "Sya9a Maroc - FR                                         Everyone   \n",
       "Fr. Mike Schmitz Audio Teachings                         Everyone   \n",
       "Parkinson Exercices FR                                   Everyone   \n",
       "The SCP Foundation DB fr nn5n                          Mature 17+   \n",
       "iHoroscope - 2018 Daily Horoscope & Astrology            Everyone   \n",
       "\n",
       "                                                                       Genres  \\\n",
       "App                                                                             \n",
       "Photo Editor & Candy Camera & Grid & ScrapBook                   Art & Design   \n",
       "Coloring book moana                                 Art & Design;Pretend Play   \n",
       "U Launcher Lite – FREE Live Cool Themes, Hide Apps               Art & Design   \n",
       "Sketch - Draw & Paint                                            Art & Design   \n",
       "Pixel Draw - Number Art Coloring Book                 Art & Design;Creativity   \n",
       "...                                                                       ...   \n",
       "Sya9a Maroc - FR                                                    Education   \n",
       "Fr. Mike Schmitz Audio Teachings                                    Education   \n",
       "Parkinson Exercices FR                                                Medical   \n",
       "The SCP Foundation DB fr nn5n                               Books & Reference   \n",
       "iHoroscope - 2018 Daily Horoscope & Astrology                       Lifestyle   \n",
       "\n",
       "                                                   Last Updated  \\\n",
       "App                                                               \n",
       "Photo Editor & Candy Camera & Grid & ScrapBook       07-01-2018   \n",
       "Coloring book moana                                  15-01-2018   \n",
       "U Launcher Lite – FREE Live Cool Themes, Hide Apps   01-08-2018   \n",
       "Sketch - Draw & Paint                                08-06-2018   \n",
       "Pixel Draw - Number Art Coloring Book                20-06-2018   \n",
       "...                                                         ...   \n",
       "Sya9a Maroc - FR                                     25-07-2017   \n",
       "Fr. Mike Schmitz Audio Teachings                     06-07-2018   \n",
       "Parkinson Exercices FR                               20-01-2017   \n",
       "The SCP Foundation DB fr nn5n                        19-01-2015   \n",
       "iHoroscope - 2018 Daily Horoscope & Astrology        25-07-2018   \n",
       "\n",
       "                                                           Current Ver  \\\n",
       "App                                                                      \n",
       "Photo Editor & Candy Camera & Grid & ScrapBook                   1.0.0   \n",
       "Coloring book moana                                              2.0.0   \n",
       "U Launcher Lite – FREE Live Cool Themes, Hide Apps               1.2.4   \n",
       "Sketch - Draw & Paint                               Varies with device   \n",
       "Pixel Draw - Number Art Coloring Book                              1.1   \n",
       "...                                                                ...   \n",
       "Sya9a Maroc - FR                                                  1.48   \n",
       "Fr. Mike Schmitz Audio Teachings                                     1   \n",
       "Parkinson Exercices FR                                               1   \n",
       "The SCP Foundation DB fr nn5n                       Varies with device   \n",
       "iHoroscope - 2018 Daily Horoscope & Astrology       Varies with device   \n",
       "\n",
       "                                                           Android Ver  \n",
       "App                                                                     \n",
       "Photo Editor & Candy Camera & Grid & ScrapBook            4.0.3 and up  \n",
       "Coloring book moana                                       4.0.3 and up  \n",
       "U Launcher Lite – FREE Live Cool Themes, Hide Apps        4.0.3 and up  \n",
       "Sketch - Draw & Paint                                       4.2 and up  \n",
       "Pixel Draw - Number Art Coloring Book                       4.4 and up  \n",
       "...                                                                ...  \n",
       "Sya9a Maroc - FR                                            4.1 and up  \n",
       "Fr. Mike Schmitz Audio Teachings                            4.1 and up  \n",
       "Parkinson Exercices FR                                      2.2 and up  \n",
       "The SCP Foundation DB fr nn5n                       Varies with device  \n",
       "iHoroscope - 2018 Daily Horoscope & Astrology       Varies with device  \n",
       "\n",
       "[10841 rows x 12 columns]"
      ]
     },
     "execution_count": 43,
     "metadata": {},
     "output_type": "execute_result"
    }
   ],
   "source": [
    "import pandas as pd\n",
    "\n",
    "import numpy as np\n",
    "\n",
    "from numpy import nan\n",
    "\n",
    "file = pd.read_csv(r\"C:\\Users\\super\\Downloads\\Playstore project\\playstoreliveproj Drive FIle\\playstore_apps.csv\", index_col='App')\n",
    "file"
   ]
  },
  {
   "cell_type": "code",
   "execution_count": 44,
   "id": "997d5965",
   "metadata": {},
   "outputs": [
    {
     "name": "stdout",
     "output_type": "stream",
     "text": [
      "<class 'pandas.core.frame.DataFrame'>\n",
      "Index: 10841 entries, Photo Editor & Candy Camera & Grid & ScrapBook to iHoroscope - 2018 Daily Horoscope & Astrology\n",
      "Data columns (total 12 columns):\n",
      " #   Column          Non-Null Count  Dtype  \n",
      "---  ------          --------------  -----  \n",
      " 0   Category        10841 non-null  object \n",
      " 1   Rating          9367 non-null   float64\n",
      " 2   Reviews         10840 non-null  float64\n",
      " 3   Size            10841 non-null  object \n",
      " 4   Installs        10840 non-null  float64\n",
      " 5   Type            10840 non-null  object \n",
      " 6   Price           10840 non-null  float64\n",
      " 7   Content Rating  10840 non-null  object \n",
      " 8   Genres          10841 non-null  object \n",
      " 9   Last Updated    10840 non-null  object \n",
      " 10  Current Ver     10833 non-null  object \n",
      " 11  Android Ver     10838 non-null  object \n",
      "dtypes: float64(4), object(8)\n",
      "memory usage: 1.1+ MB\n"
     ]
    }
   ],
   "source": [
    "file.info() # in the original data."
   ]
  },
  {
   "cell_type": "markdown",
   "id": "74d3b620",
   "metadata": {},
   "source": [
    "#### Subtask2: Remove irrelevant values from each column if any:\n",
    "\n",
    "Use the .unique function in python provided by the NumPy library to get a list of all the unique values present in that particular column, if a unique value does not comply with the data type of the column or does not justify the characteristic of the attribute then remove all the rows having that unique value.\n"
   ]
  },
  {
   "cell_type": "code",
   "execution_count": 45,
   "id": "e888b9ee",
   "metadata": {},
   "outputs": [
    {
     "name": "stdout",
     "output_type": "stream",
     "text": [
      "<class 'pandas.core.frame.DataFrame'>\n",
      "Index: 9930 entries, Photo Editor & Candy Camera & Grid & ScrapBook to iHoroscope - 2018 Daily Horoscope & Astrology\n",
      "Data columns (total 12 columns):\n",
      " #   Column          Non-Null Count  Dtype  \n",
      "---  ------          --------------  -----  \n",
      " 0   Category        9930 non-null   object \n",
      " 1   Rating          8487 non-null   float64\n",
      " 2   Reviews         9929 non-null   float64\n",
      " 3   Size            9930 non-null   object \n",
      " 4   Installs        9929 non-null   float64\n",
      " 5   Type            9929 non-null   object \n",
      " 6   Price           9929 non-null   float64\n",
      " 7   Content Rating  9929 non-null   object \n",
      " 8   Genres          9930 non-null   object \n",
      " 9   Last Updated    9929 non-null   object \n",
      " 10  Current Ver     9922 non-null   object \n",
      " 11  Android Ver     9927 non-null   object \n",
      "dtypes: float64(4), object(8)\n",
      "memory usage: 1008.5+ KB\n"
     ]
    }
   ],
   "source": [
    "#remove duplicate data\n",
    "\n",
    "file.drop_duplicates (keep = False, inplace=True)\n",
    "\n",
    "file.info()"
   ]
  },
  {
   "cell_type": "code",
   "execution_count": 46,
   "id": "2a1f8ada",
   "metadata": {},
   "outputs": [
    {
     "name": "stdout",
     "output_type": "stream",
     "text": [
      "['ART_AND_DESIGN' 'AUTO_AND_VEHICLES' 'BEAUTY' 'BOOKS_AND_REFERENCE'\n",
      " 'BUSINESS' 'COMICS' 'COMMUNICATION' 'DATING' 'EDUCATION' 'ENTERTAINMENT'\n",
      " 'EVENTS' 'FINANCE' 'FOOD_AND_DRINK' 'HEALTH_AND_FITNESS' 'HOUSE_AND_HOME'\n",
      " 'LIBRARIES_AND_DEMO' 'LIFESTYLE' 'GAME' 'FAMILY' 'MEDICAL' 'SOCIAL'\n",
      " 'SHOPPING' 'PHOTOGRAPHY' 'SPORTS' 'TRAVEL_AND_LOCAL' 'TOOLS'\n",
      " 'PERSONALIZATION' 'PRODUCTIVITY' 'PARENTING' 'WEATHER' 'VIDEO_PLAYERS'\n",
      " 'NEWS_AND_MAGAZINES' 'MAPS_AND_NAVIGATION' '1.9']\n"
     ]
    }
   ],
   "source": [
    "# category column\n",
    "\n",
    "print(file['Category'].unique()) #unique values in category column"
   ]
  },
  {
   "cell_type": "code",
   "execution_count": 47,
   "id": "fb9b258a",
   "metadata": {},
   "outputs": [
    {
     "name": "stdout",
     "output_type": "stream",
     "text": [
      "['ART_AND_DESIGN' 'AUTO_AND_VEHICLES' 'BEAUTY' 'BOOKS_AND_REFERENCE'\n",
      " 'BUSINESS' 'COMICS' 'COMMUNICATION' 'DATING' 'EDUCATION' 'ENTERTAINMENT'\n",
      " 'EVENTS' 'FINANCE' 'FOOD_AND_DRINK' 'HEALTH_AND_FITNESS' 'HOUSE_AND_HOME'\n",
      " 'LIBRARIES_AND_DEMO' 'LIFESTYLE' 'GAME' 'FAMILY' 'MEDICAL' 'SOCIAL'\n",
      " 'SHOPPING' 'PHOTOGRAPHY' 'SPORTS' 'TRAVEL_AND_LOCAL' 'TOOLS'\n",
      " 'PERSONALIZATION' 'PRODUCTIVITY' 'PARENTING' 'WEATHER' 'VIDEO_PLAYERS'\n",
      " 'NEWS_AND_MAGAZINES' 'MAPS_AND_NAVIGATION']\n"
     ]
    }
   ],
   "source": [
    "#print(file[file[\"Category\"]==\"1.9\"])\n",
    "file.drop(\"Life Made WI-Fi Touchscreen Photo Frame\", inplace=True)\n",
    "print(file['Category'].unique()) #check if irrelevant values are removed"
   ]
  },
  {
   "cell_type": "code",
   "execution_count": 48,
   "id": "e720da13",
   "metadata": {},
   "outputs": [
    {
     "name": "stdout",
     "output_type": "stream",
     "text": [
      "[4.1 3.9 4.7 4.5 4.3 4.4 3.8 4.2 4.6 3.2 4.  nan 4.8 4.9 3.6 3.7 3.3 3.4\n",
      " 3.5 3.1 5.  2.6 3.  2.5 1.  1.9 2.9 2.8 2.3 2.2 1.7 2.  1.8 2.7 2.4 1.6\n",
      " 2.1 1.4 1.5 1.2]\n"
     ]
    }
   ],
   "source": [
    "# Rating column\n",
    "\n",
    "print(file['Rating'].unique())"
   ]
  },
  {
   "cell_type": "code",
   "execution_count": 49,
   "id": "ef85e79a",
   "metadata": {},
   "outputs": [
    {
     "name": "stdout",
     "output_type": "stream",
     "text": [
      "[4.1 3.9 4.7 4.5 4.3 4.4 3.8 4.2 4.6 3.2 4.  4.8 4.9 3.6 3.7 3.3 3.4 3.5\n",
      " 3.1 5.  2.6 3.  2.5 1.  1.9 2.9 2.8 2.3 2.2 1.7 2.  1.8 2.7 2.4 1.6 2.1\n",
      " 1.4 1.5 1.2]\n"
     ]
    },
    {
     "data": {
      "text/plain": [
       "8486"
      ]
     },
     "execution_count": 49,
     "metadata": {},
     "output_type": "execute_result"
    }
   ],
   "source": [
    "file = file.dropna(subset=['Rating'])\n",
    "print(file['Rating'].unique())\n",
    "len(file['Rating'])"
   ]
  },
  {
   "cell_type": "code",
   "execution_count": 50,
   "id": "6548b564",
   "metadata": {},
   "outputs": [
    {
     "name": "stdout",
     "output_type": "stream",
     "text": [
      "[1.59000e+02 9.67000e+02 8.75100e+04 ... 6.03000e+02 1.19500e+03\n",
      " 3.98307e+05]\n"
     ]
    }
   ],
   "source": [
    "# Reviews column\n",
    "\n",
    "print(file['Reviews'].unique())\n",
    "# There are no irrelevant values."
   ]
  },
  {
   "cell_type": "code",
   "execution_count": 51,
   "id": "c480bb32",
   "metadata": {},
   "outputs": [
    {
     "name": "stdout",
     "output_type": "stream",
     "text": [
      "['19M' '14M' '8.7M' '25M' '2.8M' '5.6M' '29M' '33M' '3.1M' '28M' '12M'\n",
      " '20M' '21M' '37M' '2.7M' '5.5M' '17M' '39M' '31M' '4.2M' '23M' '6.0M'\n",
      " '6.1M' '4.6M' '9.2M' '5.2M' '11M' '24M' 'Varies with device' '9.4M' '15M'\n",
      " '10M' '1.2M' '26M' '8.0M' '7.9M' '56M' '57M' '35M' '54M' '201k' '3.6M'\n",
      " '5.7M' '8.6M' '2.4M' '27M' '2.5M' '7.0M' '16M' '3.4M' '8.9M' '3.9M'\n",
      " '2.9M' '38M' '32M' '5.4M' '18M' '1.1M' '2.2M' '4.5M' '9.8M' '52M' '9.0M'\n",
      " '6.7M' '30M' '2.6M' '7.1M' '22M' '6.4M' '3.2M' '8.2M' '4.9M' '9.5M'\n",
      " '5.0M' '5.9M' '13M' '73M' '6.8M' '3.5M' '4.0M' '2.3M' '2.1M' '42M' '9.1M'\n",
      " '55M' '23k' '7.3M' '6.5M' '1.5M' '7.5M' '46M' '8.3M' '4.3M' '4.7M' '3.3M'\n",
      " '40M' '7.8M' '8.8M' '6.6M' '5.1M' '61M' '66M' '79k' '8.4M' '3.7M' '118k'\n",
      " '44M' '695k' '1.6M' '6.2M' '53M' '1.4M' '3.0M' '7.2M' '5.8M' '3.8M'\n",
      " '9.6M' '45M' '63M' '49M' '4.4M' '70M' '9.3M' '8.1M' '36M' '41M' '51M'\n",
      " '6.9M' '7.4M' '84M' '97M' '2.0M' '1.9M' '1.8M' '5.3M' '48M' '47M' '556k'\n",
      " '526k' '76M' '7.6M' '59M' '9.7M' '78M' '8.5M' '72M' '43M' '7.7M' '77M'\n",
      " '6.3M' '334k' '93M' '65M' '79M' '100M' '58M' '50M' '68M' '64M' '34M'\n",
      " '94M' '9.9M' '232k' '99M' '624k' '95M' '8.5k' '41k' '292k' '11k' '80M'\n",
      " '1.7M' '10.0M' '67M' '74M' '62M' '69M' '75M' '85M' '82M' '96M' '87M'\n",
      " '60M' '71M' '98M' '86M' '91M' '81M' '92M' '83M' '88M' '862k' '899k'\n",
      " '378k' '266k' '375k' '1.3M' '975k' '980k' '4.1M' '89M' '696k' '544k'\n",
      " '525k' '920k' '779k' '853k' '720k' '713k' '4.8M' '772k' '318k' '58k'\n",
      " '241k' '196k' '857k' '51k' '953k' '865k' '251k' '930k' '540k' '313k'\n",
      " '746k' '203k' '26k' '314k' '239k' '371k' '220k' '730k' '756k' '91k'\n",
      " '293k' '17k' '74k' '14k' '317k' '78k' '924k' '818k' '81k' '939k' '169k'\n",
      " '45k' '965k' '90M' '545k' '61k' '283k' '655k' '714k' '93k' '872k' '121k'\n",
      " '322k' '976k' '206k' '954k' '444k' '717k' '210k' '609k' '308k' '306k'\n",
      " '175k' '350k' '383k' '454k' '1.0M' '70k' '812k' '442k' '842k' '417k'\n",
      " '412k' '459k' '478k' '335k' '782k' '721k' '430k' '429k' '192k' '460k'\n",
      " '728k' '496k' '816k' '414k' '506k' '887k' '613k' '778k' '683k' '592k'\n",
      " '186k' '840k' '647k' '373k' '437k' '598k' '716k' '585k' '982k' '219k'\n",
      " '55k' '323k' '691k' '511k' '951k' '963k' '25k' '554k' '351k' '27k' '82k'\n",
      " '208k' '551k' '29k' '103k' '116k' '153k' '209k' '499k' '173k' '597k'\n",
      " '809k' '122k' '411k' '400k' '801k' '787k' '50k' '643k' '986k' '516k'\n",
      " '837k' '780k' '20k' '498k' '600k' '656k' '221k' '228k' '176k' '34k'\n",
      " '259k' '164k' '458k' '629k' '28k' '288k' '775k' '785k' '636k' '916k'\n",
      " '994k' '309k' '485k' '914k' '903k' '608k' '500k' '54k' '562k' '847k'\n",
      " '948k' '811k' '270k' '48k' '523k' '784k' '280k' '24k' '892k' '154k' '18k'\n",
      " '33k' '860k' '364k' '387k' '626k' '161k' '879k' '39k' '170k' '141k'\n",
      " '160k' '144k' '143k' '190k' '376k' '193k' '473k' '246k' '73k' '253k'\n",
      " '957k' '420k' '72k' '404k' '470k' '226k' '240k' '89k' '234k' '257k'\n",
      " '861k' '467k' '676k' '552k' '582k' '619k']\n"
     ]
    }
   ],
   "source": [
    "# Size column\n",
    "\n",
    "print(file['Size'].unique())"
   ]
  },
  {
   "cell_type": "code",
   "execution_count": 52,
   "id": "b6cc1065",
   "metadata": {},
   "outputs": [
    {
     "name": "stdout",
     "output_type": "stream",
     "text": [
      "['19M' '14M' '8.7M' '25M' '2.8M' '5.6M' '29M' '33M' '3.1M' '28M' '12M'\n",
      " '20M' '21M' '37M' '2.7M' '5.5M' '17M' '39M' '31M' '4.2M' '23M' '6.0M'\n",
      " '6.1M' '4.6M' '9.2M' '5.2M' '11M' '24M' 'Varies with device' '9.4M' '15M'\n",
      " '10M' '1.2M' '26M' '8.0M' '7.9M' '56M' '57M' '35M' '54M' '201k' '3.6M'\n",
      " '5.7M' '8.6M' '2.4M' '27M' '2.5M' '7.0M' '16M' '3.4M' '8.9M' '3.9M'\n",
      " '2.9M' '38M' '32M' '5.4M' '18M' '1.1M' '2.2M' '4.5M' '9.8M' '52M' '9.0M'\n",
      " '6.7M' '30M' '2.6M' '7.1M' '22M' '6.4M' '3.2M' '8.2M' '4.9M' '9.5M'\n",
      " '5.0M' '5.9M' '13M' '73M' '6.8M' '3.5M' '4.0M' '2.3M' '2.1M' '42M' '9.1M'\n",
      " '55M' '23k' '7.3M' '6.5M' '1.5M' '7.5M' '46M' '8.3M' '4.3M' '4.7M' '3.3M'\n",
      " '40M' '7.8M' '8.8M' '6.6M' '5.1M' '61M' '66M' '79k' '8.4M' '3.7M' '118k'\n",
      " '44M' '695k' '1.6M' '6.2M' '53M' '1.4M' '3.0M' '7.2M' '5.8M' '3.8M'\n",
      " '9.6M' '45M' '63M' '49M' '4.4M' '70M' '9.3M' '8.1M' '36M' '41M' '51M'\n",
      " '6.9M' '7.4M' '84M' '97M' '2.0M' '1.9M' '1.8M' '5.3M' '48M' '47M' '556k'\n",
      " '526k' '76M' '7.6M' '59M' '9.7M' '78M' '8.5M' '72M' '43M' '7.7M' '77M'\n",
      " '6.3M' '334k' '93M' '65M' '79M' '100M' '58M' '50M' '68M' '64M' '34M'\n",
      " '94M' '9.9M' '232k' '99M' '624k' '95M' '8.5k' '41k' '292k' '11k' '80M'\n",
      " '1.7M' '10.0M' '67M' '74M' '62M' '69M' '75M' '85M' '82M' '96M' '87M'\n",
      " '60M' '71M' '98M' '86M' '91M' '81M' '92M' '83M' '88M' '862k' '899k'\n",
      " '378k' '266k' '375k' '1.3M' '975k' '980k' '4.1M' '89M' '696k' '544k'\n",
      " '525k' '920k' '779k' '853k' '720k' '713k' '4.8M' '772k' '318k' '58k'\n",
      " '241k' '196k' '857k' '51k' '953k' '865k' '251k' '930k' '540k' '313k'\n",
      " '746k' '203k' '26k' '314k' '239k' '371k' '220k' '730k' '756k' '91k'\n",
      " '293k' '17k' '74k' '14k' '317k' '78k' '924k' '818k' '81k' '939k' '169k'\n",
      " '45k' '965k' '90M' '545k' '61k' '283k' '655k' '714k' '93k' '872k' '121k'\n",
      " '322k' '976k' '206k' '954k' '444k' '717k' '210k' '609k' '308k' '306k'\n",
      " '175k' '350k' '383k' '454k' '1.0M' '70k' '812k' '442k' '842k' '417k'\n",
      " '412k' '459k' '478k' '335k' '782k' '721k' '430k' '429k' '192k' '460k'\n",
      " '728k' '496k' '816k' '414k' '506k' '887k' '613k' '778k' '683k' '592k'\n",
      " '186k' '840k' '647k' '373k' '437k' '598k' '716k' '585k' '982k' '219k'\n",
      " '55k' '323k' '691k' '511k' '951k' '963k' '25k' '554k' '351k' '27k' '82k'\n",
      " '208k' '551k' '29k' '103k' '116k' '153k' '209k' '499k' '173k' '597k'\n",
      " '809k' '122k' '411k' '400k' '801k' '787k' '50k' '643k' '986k' '516k'\n",
      " '837k' '780k' '20k' '498k' '600k' '656k' '221k' '228k' '176k' '34k'\n",
      " '259k' '164k' '458k' '629k' '28k' '288k' '775k' '785k' '636k' '916k'\n",
      " '994k' '309k' '485k' '914k' '903k' '608k' '500k' '54k' '562k' '847k'\n",
      " '948k' '811k' '270k' '48k' '523k' '784k' '280k' '24k' '892k' '154k' '18k'\n",
      " '33k' '860k' '364k' '387k' '626k' '161k' '879k' '39k' '170k' '141k'\n",
      " '160k' '144k' '143k' '190k' '376k' '193k' '473k' '246k' '73k' '253k'\n",
      " '957k' '420k' '72k' '404k' '470k' '226k' '240k' '89k' '234k' '257k'\n",
      " '861k' '467k' '676k' '552k' '582k' '619k']\n"
     ]
    },
    {
     "data": {
      "text/plain": [
       "8486"
      ]
     },
     "execution_count": 52,
     "metadata": {},
     "output_type": "execute_result"
    }
   ],
   "source": [
    "print(file['Size'].unique())\n",
    "len(file['Size'])"
   ]
  },
  {
   "cell_type": "code",
   "execution_count": 53,
   "id": "4c9a5c46",
   "metadata": {},
   "outputs": [
    {
     "name": "stdout",
     "output_type": "stream",
     "text": [
      "[1.e+04 5.e+05 5.e+06 5.e+07 1.e+05 5.e+04 1.e+06 1.e+07 5.e+03 1.e+08\n",
      " 1.e+09 1.e+03 5.e+08 1.e+02 5.e+02 1.e+01 5.e+00 5.e+01 1.e+00]\n"
     ]
    }
   ],
   "source": [
    "# Installs column\n",
    "\n",
    "print(file['Installs'].unique())\n",
    "# There are no irrelevant values."
   ]
  },
  {
   "cell_type": "code",
   "execution_count": 54,
   "id": "1dd2bb50",
   "metadata": {},
   "outputs": [
    {
     "name": "stdout",
     "output_type": "stream",
     "text": [
      "['Free' 'Paid']\n"
     ]
    }
   ],
   "source": [
    "# Type column\n",
    "\n",
    "print(file['Type'].unique())"
   ]
  },
  {
   "cell_type": "code",
   "execution_count": 55,
   "id": "94fedf1f",
   "metadata": {},
   "outputs": [
    {
     "name": "stdout",
     "output_type": "stream",
     "text": [
      "[  0.     3.99   6.99   7.99   5.99   4.99   2.99   3.49   1.99   9.99\n",
      "   7.49   0.99   2.49  10.99   1.5   15.99  39.99   3.95  29.99   4.49\n",
      "   1.7    8.99   1.49   3.88  14.99 399.99  17.99 400.     3.02   1.76\n",
      "   4.84   4.77   1.61   2.5    1.59   6.49   1.29  19.99 299.99 379.99\n",
      "  37.99  18.99 389.99   8.49   1.75  11.99  14.     2.     5.49   3.08\n",
      "   2.59  19.4    3.9    4.59  15.46  10.     3.04  12.99  13.99   4.29\n",
      "   3.28   4.6    1.     2.95   2.9    1.97  24.99   2.56  16.99   1.2 ]\n"
     ]
    }
   ],
   "source": [
    "# Price column\n",
    "\n",
    "print(file['Price'].unique())\n",
    "# There are no irrelevant values."
   ]
  },
  {
   "cell_type": "code",
   "execution_count": 56,
   "id": "a1db796d",
   "metadata": {},
   "outputs": [
    {
     "name": "stdout",
     "output_type": "stream",
     "text": [
      "['Everyone' 'Teen' 'Everyone 10+' 'Mature 17+' 'Adults only 18+' 'Unrated']\n"
     ]
    }
   ],
   "source": [
    "# Content rating column\n",
    "\n",
    "print(file['Content Rating'].unique())"
   ]
  },
  {
   "cell_type": "code",
   "execution_count": 57,
   "id": "9112aac2",
   "metadata": {},
   "outputs": [
    {
     "name": "stdout",
     "output_type": "stream",
     "text": [
      "['Art & Design' 'Art & Design;Pretend Play' 'Art & Design;Creativity'\n",
      " 'Auto & Vehicles' 'Beauty' 'Books & Reference' 'Business' 'Comics'\n",
      " 'Comics;Creativity' 'Communication' 'Dating' 'Education;Education'\n",
      " 'Education' 'Education;Creativity' 'Education;Music & Video'\n",
      " 'Education;Action & Adventure' 'Education;Pretend Play'\n",
      " 'Education;Brain Games' 'Entertainment' 'Entertainment;Music & Video'\n",
      " 'Entertainment;Brain Games' 'Entertainment;Creativity' 'Events' 'Finance'\n",
      " 'Food & Drink' 'Health & Fitness' 'House & Home' 'Libraries & Demo'\n",
      " 'Lifestyle' 'Lifestyle;Pretend Play' 'Adventure;Action & Adventure'\n",
      " 'Arcade' 'Casual' 'Card' 'Casual;Pretend Play' 'Action' 'Strategy'\n",
      " 'Puzzle' 'Sports' 'Music' 'Word' 'Racing' 'Casual;Creativity'\n",
      " 'Casual;Action & Adventure' 'Adventure' 'Board' 'Trivia' 'Simulation'\n",
      " 'Role Playing' 'Simulation;Education' 'Action;Action & Adventure'\n",
      " 'Casual;Brain Games' 'Simulation;Action & Adventure'\n",
      " 'Educational;Creativity' 'Puzzle;Brain Games' 'Educational;Education'\n",
      " 'Card;Brain Games' 'Educational;Brain Games' 'Educational;Pretend Play'\n",
      " 'Entertainment;Education' 'Casual;Education' 'Music;Music & Video'\n",
      " 'Racing;Action & Adventure' 'Arcade;Pretend Play'\n",
      " 'Simulation;Pretend Play' 'Puzzle;Creativity' 'Sports;Action & Adventure'\n",
      " 'Educational;Action & Adventure' 'Arcade;Action & Adventure'\n",
      " 'Entertainment;Action & Adventure' 'Puzzle;Action & Adventure'\n",
      " 'Strategy;Action & Adventure' 'Music & Audio;Music & Video'\n",
      " 'Health & Fitness;Education' 'Adventure;Education' 'Board;Brain Games'\n",
      " 'Board;Action & Adventure' 'Board;Pretend Play'\n",
      " 'Entertainment;Pretend Play' 'Video Players & Editors;Creativity'\n",
      " 'Card;Action & Adventure' 'Medical' 'Social' 'Shopping' 'Photography'\n",
      " 'Travel & Local' 'Travel & Local;Action & Adventure' 'Tools'\n",
      " 'Tools;Education' 'Personalization' 'Productivity' 'Parenting'\n",
      " 'Parenting;Music & Video' 'Parenting;Brain Games' 'Parenting;Education'\n",
      " 'Weather' 'Video Players & Editors'\n",
      " 'Video Players & Editors;Music & Video' 'News & Magazines'\n",
      " 'Maps & Navigation' 'Health & Fitness;Action & Adventure'\n",
      " 'Role Playing;Pretend Play' 'Educational' 'Casino'\n",
      " 'Adventure;Brain Games' 'Role Playing;Action & Adventure'\n",
      " 'Lifestyle;Education' 'Books & Reference;Education' 'Puzzle;Education'\n",
      " 'Role Playing;Brain Games' 'Strategy;Education' 'Racing;Pretend Play'\n",
      " 'Communication;Creativity' 'Strategy;Creativity']\n"
     ]
    }
   ],
   "source": [
    "# Genres column\n",
    "\n",
    "print(file['Genres'].unique())"
   ]
  },
  {
   "cell_type": "code",
   "execution_count": 58,
   "id": "87e93bd6",
   "metadata": {},
   "outputs": [
    {
     "name": "stdout",
     "output_type": "stream",
     "text": [
      "['07-01-2018' '15-01-2018' '01-08-2018' ... '20-01-2014' '16-02-2014'\n",
      " '23-03-2014']\n"
     ]
    }
   ],
   "source": [
    "# Last Updated column\n",
    "\n",
    "print(file['Last Updated'].unique())"
   ]
  },
  {
   "cell_type": "code",
   "execution_count": 59,
   "id": "4d42f1d8",
   "metadata": {},
   "outputs": [
    {
     "name": "stdout",
     "output_type": "stream",
     "text": [
      "['1.0.0' '2.0.0' '1.2.4' ... '1.5.447' '1.0.612928' '0.3.4']\n"
     ]
    },
    {
     "data": {
      "text/plain": [
       "8482"
      ]
     },
     "execution_count": 59,
     "metadata": {},
     "output_type": "execute_result"
    }
   ],
   "source": [
    "# Current ver column\n",
    "file = file.dropna(subset=['Current Ver'])\n",
    "print(file['Current Ver'].unique())\n",
    "len(file[\"Current Ver\"])"
   ]
  },
  {
   "cell_type": "code",
   "execution_count": 60,
   "id": "8c4b8422",
   "metadata": {},
   "outputs": [
    {
     "name": "stdout",
     "output_type": "stream",
     "text": [
      "['4.0.3 and up' '4.2 and up' '4.4 and up' '2.3 and up' '3.0 and up'\n",
      " '4.1 and up' '4.0 and up' '2.3.3 and up' 'Varies with device'\n",
      " '2.2 and up' '5.0 and up' '6.0 and up' '1.6 and up' '1.5 and up'\n",
      " '2.1 and up' '7.0 and up' '4.3 and up' '4.0.3 - 7.1.1' '2.0 and up'\n",
      " '3.2 and up' '4.4W and up' '5.1 and up' '7.1 and up' '7.0 - 7.1.1'\n",
      " '8.0 and up' '5.0 - 8.0' '3.1 and up' '2.0.1 and up' '4.1 - 7.1.1'\n",
      " '5.0 - 6.0' '1.0 and up']\n"
     ]
    },
    {
     "data": {
      "text/plain": [
       "8480"
      ]
     },
     "execution_count": 60,
     "metadata": {},
     "output_type": "execute_result"
    }
   ],
   "source": [
    "# Android ver column\n",
    "file = file.dropna(subset=['Android Ver'])\n",
    "print(file['Android Ver'].unique())\n",
    "len(file[\"Android Ver\"])"
   ]
  },
  {
   "cell_type": "code",
   "execution_count": 61,
   "id": "e41179f5",
   "metadata": {},
   "outputs": [
    {
     "name": "stdout",
     "output_type": "stream",
     "text": [
      "<class 'pandas.core.frame.DataFrame'>\n",
      "Index: 8480 entries, Photo Editor & Candy Camera & Grid & ScrapBook to iHoroscope - 2018 Daily Horoscope & Astrology\n",
      "Data columns (total 12 columns):\n",
      " #   Column          Non-Null Count  Dtype  \n",
      "---  ------          --------------  -----  \n",
      " 0   Category        8480 non-null   object \n",
      " 1   Rating          8480 non-null   float64\n",
      " 2   Reviews         8480 non-null   float64\n",
      " 3   Size            8480 non-null   object \n",
      " 4   Installs        8480 non-null   float64\n",
      " 5   Type            8480 non-null   object \n",
      " 6   Price           8480 non-null   float64\n",
      " 7   Content Rating  8480 non-null   object \n",
      " 8   Genres          8480 non-null   object \n",
      " 9   Last Updated    8480 non-null   object \n",
      " 10  Current Ver     8480 non-null   object \n",
      " 11  Android Ver     8480 non-null   object \n",
      "dtypes: float64(4), object(8)\n",
      "memory usage: 861.2+ KB\n"
     ]
    }
   ],
   "source": [
    "file.info()"
   ]
  },
  {
   "cell_type": "markdown",
   "id": "63c368e1",
   "metadata": {},
   "source": [
    "#### Subtask 3: Export the cleaned dataset as a .csv file and prepare the data using excel:"
   ]
  },
  {
   "cell_type": "code",
   "execution_count": 62,
   "id": "3d850e2f",
   "metadata": {},
   "outputs": [],
   "source": [
    "file.to_csv(\"cleaned_file.csv\")"
   ]
  }
 ],
 "metadata": {
  "kernelspec": {
   "display_name": "Python 3 (ipykernel)",
   "language": "python",
   "name": "python3"
  },
  "language_info": {
   "codemirror_mode": {
    "name": "ipython",
    "version": 3
   },
   "file_extension": ".py",
   "mimetype": "text/x-python",
   "name": "python",
   "nbconvert_exporter": "python",
   "pygments_lexer": "ipython3",
   "version": "3.10.1"
  }
 },
 "nbformat": 4,
 "nbformat_minor": 5
}
